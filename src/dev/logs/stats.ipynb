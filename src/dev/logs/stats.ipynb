{
 "cells": [
  {
   "cell_type": "code",
   "execution_count": null,
   "metadata": {},
   "outputs": [],
   "source": [
    "#imports\n",
    "import glob\n",
    "#get all log files\n",
    "logs = glob.glob('*.txt')\n",
    "#print all the logs in the log folder\n",
    "print('Found logs:',logs)\n",
    "\n",
    "data = []\n",
    "\n",
    "for name in logs:\n",
    "    with open(name,'r') as log:\n",
    "        content = log.readlines()\n",
    "        for line in content:\n",
    "            data.append(line.strip().split(' - '))"
   ]
  },
  {
   "cell_type": "code",
   "execution_count": 2,
   "metadata": {},
   "outputs": [],
   "source": [
    "#for some reason the first line gets broken\n",
    "#print(data)\n",
    "data.append([data[0],data[1],data[2]])\n",
    "del data[0]\n",
    "del data[1]\n",
    "del data[2]\n",
    "\n",
    "route_main = 0\n",
    "failure = 0\n",
    "fetch_new = 0\n",
    "fetch_pop = 0\n",
    "fetch_old = 0\n",
    "fetch_attachment = 0\n",
    "db_connect = 0\n",
    "db_query = 0\n",
    "db_execute = 0\n",
    "\n",
    "for part in data:\n",
    "    if part[2] == 'route main':\n",
    "        route_main += 1\n",
    "    elif part[2] == 'failure':\n",
    "        failure += 1\n",
    "    elif part[2] == 'fetch new':\n",
    "        fetch_new += 1\n",
    "    elif part[2] == 'fetch pop':\n",
    "        fetch_pop += 1\n",
    "    elif part[2] == 'fetch old':\n",
    "        fetch_old += 1\n",
    "    elif part[2] == 'fetch attachment_table':\n",
    "        fetch_attachment += 1\n",
    "    elif part[2] == 'database connect':\n",
    "        db_connect += 1\n",
    "    elif part[2] == 'database query':\n",
    "        db_query += 1\n",
    "    elif part[2] == 'database execute':\n",
    "        db_execute += 1\n"
   ]
  },
  {
   "cell_type": "code",
   "execution_count": null,
   "metadata": {},
   "outputs": [],
   "source": [
    "import matplotlib.pyplot as plt\n",
    "%matplotlib inline\n",
    "\n",
    "chart_data = [route_main,failure,fetch_new,fetch_pop,fetch_old,fetch_attachment,db_connect,db_query,db_execute]\n",
    "labels = ['route_main','failure','fetch_new','fetch_pop','fetch_old','fetch_attachment','db_connect','db_query','db_execute']\n",
    "\n",
    "fig1, ax1 = plt.subplots()\n",
    "ax1.pie(chart_data, labels=labels, autopct='%1.1f%%',\n",
    "        shadow=True, startangle=90,textprops={'color':\"w\"})\n",
    "ax1.axis('equal')  # Equal aspect ratio ensures that pie is drawn as a circle.\n",
    "\n",
    "plt.show()"
   ]
  },
  {
   "cell_type": "code",
   "execution_count": null,
   "metadata": {},
   "outputs": [],
   "source": [
    "import matplotlib.pyplot as plt\n",
    "%matplotlib inline\n",
    "\n",
    "chart_data = [route_main,failure,fetch_new,fetch_pop,fetch_old,fetch_attachment]\n",
    "labels = ['route_main','failure','fetch_new','fetch_pop','fetch_old','fetch_attachment']\n",
    "\n",
    "fig1, ax1 = plt.subplots()\n",
    "ax1.pie(chart_data, labels=labels, autopct='%1.1f%%',\n",
    "        shadow=True, startangle=90,textprops={'color':\"w\"})\n",
    "ax1.axis('equal')  # Equal aspect ratio ensures that pie is drawn as a circle.\n",
    "\n",
    "plt.show()"
   ]
  }
 ],
 "metadata": {
  "interpreter": {
   "hash": "916dbcbb3f70747c44a77c7bcd40155683ae19c65e1c03b4aa3499c5328201f1"
  },
  "kernelspec": {
   "display_name": "Python 3.7.3 32-bit",
   "name": "python3"
  },
  "language_info": {
   "codemirror_mode": {
    "name": "ipython",
    "version": 3
   },
   "file_extension": ".py",
   "mimetype": "text/x-python",
   "name": "python",
   "nbconvert_exporter": "python",
   "pygments_lexer": "ipython3",
   "version": "3.7.3"
  },
  "orig_nbformat": 4
 },
 "nbformat": 4,
 "nbformat_minor": 2
}
